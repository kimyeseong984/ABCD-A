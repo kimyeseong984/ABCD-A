{
  "cells": [
    {
      "cell_type": "markdown",
      "metadata": {
        "id": "view-in-github",
        "colab_type": "text"
      },
      "source": [
        "<a href=\"https://colab.research.google.com/github/kimyeseong984/ABCD-A/blob/main/%EC%9E%85%EB%A0%A5%EA%B3%BC_%EB%B0%98%EB%B3%B5%EB%AC%B8_%EC%82%AC%EC%9A%A9%EB%B2%95.ipynb\" target=\"_parent\"><img src=\"https://colab.research.google.com/assets/colab-badge.svg\" alt=\"Open In Colab\"/></a>"
      ]
    },
    {
      "cell_type": "code",
      "execution_count": null,
      "metadata": {
        "colab": {
          "base_uri": "https://localhost:8080/"
        },
        "id": "94eT6mFx-Fcx",
        "outputId": "6e4d4650-75d2-40a5-e054-c4b5ffc21086"
      },
      "outputs": [
        {
          "name": "stdout",
          "output_type": "stream",
          "text": [
            "How old are you12\n",
            "12 years old\n"
          ]
        }
      ],
      "source": [
        "# str = input(\"How old are you\")\n",
        "# print(str+' years old', sep='')"
      ]
    },
    {
      "cell_type": "code",
      "execution_count": null,
      "metadata": {
        "colab": {
          "base_uri": "https://localhost:8080/"
        },
        "id": "XFrZ8mjbANcJ",
        "outputId": "8541b2ae-0344-4da6-a85d-a4402c11ac3d"
      },
      "outputs": [
        {
          "name": "stdout",
          "output_type": "stream",
          "text": [
            "number : 34\n",
            "34\n"
          ]
        }
      ],
      "source": [
        "# x = int(input('number : '))\n",
        "# print(x)"
      ]
    },
    {
      "cell_type": "code",
      "execution_count": null,
      "metadata": {
        "colab": {
          "base_uri": "https://localhost:8080/"
        },
        "id": "Z91NYNFEA4H8",
        "outputId": "51472694-d1bd-4034-a6b7-6f71bbe47518"
      },
      "outputs": [
        {
          "name": "stdout",
          "output_type": "stream",
          "text": [
            "number : 12.412\n",
            "12.412\n"
          ]
        }
      ],
      "source": [
        "#  x = float(input('number : '))\n",
        "#  print(x)"
      ]
    },
    {
      "cell_type": "code",
      "execution_count": null,
      "metadata": {
        "colab": {
          "base_uri": "https://localhost:8080/"
        },
        "id": "DCzU71K_BaYT",
        "outputId": "2dac4549-db2b-44dc-d28d-2324ea149010"
      },
      "outputs": [
        {
          "name": "stdout",
          "output_type": "stream",
          "text": [
            "This year: 2025.0\n",
            "next year 2026.0\n"
          ]
        }
      ],
      "source": [
        "# year = input(\"This year: \")\n",
        "# year = eval(year)\n",
        "# year = year + 1\n",
        "# print(\"next year\", year)"
      ]
    },
    {
      "cell_type": "code",
      "execution_count": 5,
      "metadata": {
        "colab": {
          "base_uri": "https://localhost:8080/"
        },
        "id": "tHYXZH_8CcIL",
        "outputId": "f6d99f5a-523e-455b-fc92-71690bfa05e5"
      },
      "outputs": [
        {
          "output_type": "stream",
          "name": "stdout",
          "text": [
            "0 번째성적 입력: 30\n",
            "1 번째성적 입력: 50\n",
            "2 번째성적 입력: 60\n",
            "3 번째성적 입력: 30\n",
            "4 번째성적 입력: 40\n",
            "합 : 210\n",
            "평균 : 42.0\n"
          ]
        }
      ],
      "source": [
        "# i = 0\n",
        "# result = 0\n",
        "# while i < 5:\n",
        "#    print(f'{i} 번째',end= \"\")\n",
        "#    a = input(\"성적 입력: \")\n",
        "#    result += int(a)\n",
        "#    i += 1\n",
        "# print(f'합 : {result}')\n",
        "# print(f'평균 : {result / 5}')"
      ]
    },
    {
      "cell_type": "code",
      "source": [
        "# test_list = ['one', 'two', 'three']\n",
        "# for i in test_list:\n",
        "#     print(i)"
      ],
      "metadata": {
        "colab": {
          "base_uri": "https://localhost:8080/"
        },
        "id": "nxbB6dX1FkYO",
        "outputId": "804caf3d-0f78-4d3e-bb3a-bd2a846cc34c"
      },
      "execution_count": 6,
      "outputs": [
        {
          "output_type": "stream",
          "name": "stdout",
          "text": [
            "one\n",
            "two\n",
            "three\n"
          ]
        }
      ]
    },
    {
      "cell_type": "code",
      "source": [
        "# for i in range(1,10):\n",
        "#    print(i)"
      ],
      "metadata": {
        "colab": {
          "base_uri": "https://localhost:8080/"
        },
        "id": "R6L0jEc7F880",
        "outputId": "18fc113f-1677-4da4-c29b-8428171c4396"
      },
      "execution_count": 10,
      "outputs": [
        {
          "output_type": "stream",
          "name": "stdout",
          "text": [
            "1\n",
            "2\n",
            "3\n",
            "4\n",
            "5\n",
            "6\n",
            "7\n",
            "8\n",
            "9\n"
          ]
        }
      ]
    },
    {
      "cell_type": "code",
      "source": [
        "# result = 0\n",
        "# for a in range(1,101):  #1 ~ 100\n",
        "#    result = result + a\n",
        "#    print(f\"{a} sum {result}\")\n",
        "\n",
        "# print(result)"
      ],
      "metadata": {
        "colab": {
          "base_uri": "https://localhost:8080/"
        },
        "id": "Kpfy-12dGZzr",
        "outputId": "21752a39-0a75-4a66-e11d-709fced46b7f"
      },
      "execution_count": 14,
      "outputs": [
        {
          "output_type": "stream",
          "name": "stdout",
          "text": [
            "1 sum 1\n",
            "2 sum 3\n",
            "3 sum 6\n",
            "4 sum 10\n",
            "5 sum 15\n",
            "6 sum 21\n",
            "7 sum 28\n",
            "8 sum 36\n",
            "9 sum 45\n",
            "10 sum 55\n",
            "11 sum 66\n",
            "12 sum 78\n",
            "13 sum 91\n",
            "14 sum 105\n",
            "15 sum 120\n",
            "16 sum 136\n",
            "17 sum 153\n",
            "18 sum 171\n",
            "19 sum 190\n",
            "20 sum 210\n",
            "21 sum 231\n",
            "22 sum 253\n",
            "23 sum 276\n",
            "24 sum 300\n",
            "25 sum 325\n",
            "26 sum 351\n",
            "27 sum 378\n",
            "28 sum 406\n",
            "29 sum 435\n",
            "30 sum 465\n",
            "31 sum 496\n",
            "32 sum 528\n",
            "33 sum 561\n",
            "34 sum 595\n",
            "35 sum 630\n",
            "36 sum 666\n",
            "37 sum 703\n",
            "38 sum 741\n",
            "39 sum 780\n",
            "40 sum 820\n",
            "41 sum 861\n",
            "42 sum 903\n",
            "43 sum 946\n",
            "44 sum 990\n",
            "45 sum 1035\n",
            "46 sum 1081\n",
            "47 sum 1128\n",
            "48 sum 1176\n",
            "49 sum 1225\n",
            "50 sum 1275\n",
            "51 sum 1326\n",
            "52 sum 1378\n",
            "53 sum 1431\n",
            "54 sum 1485\n",
            "55 sum 1540\n",
            "56 sum 1596\n",
            "57 sum 1653\n",
            "58 sum 1711\n",
            "59 sum 1770\n",
            "60 sum 1830\n",
            "61 sum 1891\n",
            "62 sum 1953\n",
            "63 sum 2016\n",
            "64 sum 2080\n",
            "65 sum 2145\n",
            "66 sum 2211\n",
            "67 sum 2278\n",
            "68 sum 2346\n",
            "69 sum 2415\n",
            "70 sum 2485\n",
            "71 sum 2556\n",
            "72 sum 2628\n",
            "73 sum 2701\n",
            "74 sum 2775\n",
            "75 sum 2850\n",
            "76 sum 2926\n",
            "77 sum 3003\n",
            "78 sum 3081\n",
            "79 sum 3160\n",
            "80 sum 3240\n",
            "81 sum 3321\n",
            "82 sum 3403\n",
            "83 sum 3486\n",
            "84 sum 3570\n",
            "85 sum 3655\n",
            "86 sum 3741\n",
            "87 sum 3828\n",
            "88 sum 3916\n",
            "89 sum 4005\n",
            "90 sum 4095\n",
            "91 sum 4186\n",
            "92 sum 4278\n",
            "93 sum 4371\n",
            "94 sum 4465\n",
            "95 sum 4560\n",
            "96 sum 4656\n",
            "97 sum 4753\n",
            "98 sum 4851\n",
            "99 sum 4950\n",
            "100 sum 5050\n",
            "5050\n"
          ]
        }
      ]
    },
    {
      "cell_type": "code",
      "source": [
        "# result = 0\n",
        "# for a in range(1,101):  # 1 ~ 100\n",
        "#     result = result + a   # a를 더해주고\n",
        "#     print(f'{a} : sum = {result}')     # 그때의 a값을 출력\n",
        "# result = 0\n",
        "# for a in range(1,101):  # 1 ~ 100\n",
        "#     result = result + a   # a를 더해주고\n",
        "#     print(f'{a} : sum = {result}')     # 그때의 a값을 출력\n",
        "\n",
        "#     if result > 100:   # result가 100이 넘었을때\n",
        "#         break\n",
        "\n",
        "# print(result)"
      ],
      "metadata": {
        "id": "oQXyT2BzHKrY"
      },
      "execution_count": 42,
      "outputs": []
    },
    {
      "cell_type": "code",
      "source": [
        "# index = 0\n",
        "# s = \"BlockDMask\"\n",
        "# for a in s:\n",
        "#   print(a,end='')\n",
        "#   if a == 'k':\n",
        "#   break    # 'k'를 찾았으니 for문에서 나와랏!\n",
        "\n",
        "#   index = index + 1\n",
        "\n",
        "# print(index)   # 'k'가 첫번째로 존재하는 위치 출력"
      ],
      "metadata": {
        "id": "U4PA_31YJ5b5"
      },
      "execution_count": 51,
      "outputs": []
    },
    {
      "cell_type": "code",
      "source": [
        "# student = [180, 170, 164, 199, 182, 172, 177]\n",
        "# for a in student:\n",
        "#   if a > 170:\n",
        "\n",
        "#     continue  # 키가 170보다 크면 continue\n",
        "\n",
        "# print(a)"
      ],
      "metadata": {
        "id": "zYtmbN9CMBGL"
      },
      "execution_count": 79,
      "outputs": []
    },
    {
      "cell_type": "code",
      "source": [
        "# result = 0\n",
        "# for a in range(1,101):  #1 ~ 100\n",
        "#     if a % 2 == 0:          #2로 나누었을때 나머지가 1\n",
        "#         result = result + a\n",
        "\n",
        "# print(result)"
      ],
      "metadata": {
        "id": "jAnkhwOJMBXb"
      },
      "execution_count": 81,
      "outputs": []
    },
    {
      "cell_type": "code",
      "source": [
        "#  1 = ['Alice', 'Bob', 'charile']\n",
        "\n",
        "#  for name in 1:\n",
        "#       if name == 'Bob':\n",
        "#         print(\"BREAK!\")\n",
        "#         break\n",
        "#       print(name)\n",
        "#  else:\n",
        "#    print('!!FINISH!!')"
      ],
      "metadata": {
        "id": "cc-0xSAwNaI3"
      },
      "execution_count": 83,
      "outputs": []
    },
    {
      "cell_type": "code",
      "source": [
        "# for name in 1:\n",
        "#   if name == 'Bob':\n",
        "#     print(\"BREAK!\")\n",
        "#     break\n",
        "#     print(name)\n",
        "# else:\n",
        "#   print(\"!! FINISH\")\n",
        "# # Alice\n",
        "# # !!BREAK!!"
      ],
      "metadata": {
        "id": "o9WJNdoLO_Hl"
      },
      "execution_count": 87,
      "outputs": []
    },
    {
      "cell_type": "code",
      "source": [
        "# sr = ['father', 'mother', 'brother']\n",
        "# cnt = 0\n",
        "# for s in sr:\n",
        "#   for c in s:\n",
        "#     if c == 'r':\n",
        "#       cnt += 1\n",
        "# print(cnt)\n",
        ""
      ],
      "metadata": {
        "colab": {
          "base_uri": "https://localhost:8080/"
        },
        "id": "hHPs12D-Q45R",
        "outputId": "778f1ae4-75f5-4e6b-96cf-be8388b43ced"
      },
      "execution_count": 90,
      "outputs": [
        {
          "output_type": "stream",
          "name": "stdout",
          "text": [
            "4\n"
          ]
        }
      ]
    },
    {
      "cell_type": "code",
      "source": [
        "# a = []    # 빈 리스트 생성\n",
        "# for i in range(10):\n",
        "#   a.append(0)     # apped로 요소 추가\n",
        "\n",
        "# print(a)"
      ],
      "metadata": {
        "colab": {
          "base_uri": "https://localhost:8080/"
        },
        "id": "xhaPmY2-RjsD",
        "outputId": "f35fcced-2959-46d3-8318-e3a1261b0f61"
      },
      "execution_count": 91,
      "outputs": [
        {
          "output_type": "stream",
          "name": "stdout",
          "text": [
            "[0, 0, 0, 0, 0, 0, 0, 0, 0, 0]\n"
          ]
        }
      ]
    },
    {
      "cell_type": "code",
      "source": [
        "# a = []   # 빈 리스트 생성\n",
        "\n",
        "# for i in range(3):\n",
        "#     line = []     # 안쪽 리스트로 사용할 빈 리스트 생성\n",
        "#     for j in range(2):\n",
        "#         line.append(0)     # 안쪽 리스트에 0 추가\n",
        "#     a.append(line)         # 전체 리스트에 안쪽 리스트를 추가\n",
        "\n",
        "# print(a)"
      ],
      "metadata": {
        "colab": {
          "base_uri": "https://localhost:8080/"
        },
        "id": "oJ6HjzouR3xI",
        "outputId": "8f26d9e6-4931-4f0e-cd79-3741bfd2da01"
      },
      "execution_count": 92,
      "outputs": [
        {
          "output_type": "stream",
          "name": "stdout",
          "text": [
            "[[0, 0], [0, 0], [0, 0]]\n"
          ]
        }
      ]
    },
    {
      "cell_type": "code",
      "source": [
        "# 1 = ['Alice', 'Bob', 'charile']\n",
        "\n",
        "# for name in 1:\n",
        "#   print(name)\n",
        "\n",
        "\n",
        "# for i, name in enumerate(1):\n",
        "#   print(i, name)\n"
      ],
      "metadata": {
        "id": "8fXTNprdTN1f"
      },
      "execution_count": 100,
      "outputs": []
    }
  ],
  "metadata": {
    "accelerator": "GPU",
    "colab": {
      "gpuType": "T4",
      "provenance": [],
      "authorship_tag": "ABX9TyNJFrGVcQRGZBy50dc73/aI",
      "include_colab_link": true
    },
    "kernelspec": {
      "display_name": "Python 3",
      "name": "python3"
    },
    "language_info": {
      "name": "python"
    }
  },
  "nbformat": 4,
  "nbformat_minor": 0
}