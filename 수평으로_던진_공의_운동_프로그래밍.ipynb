{
  "nbformat": 4,
  "nbformat_minor": 0,
  "metadata": {
    "colab": {
      "provenance": [],
      "gpuType": "T4",
      "authorship_tag": "ABX9TyMQdRIkA/n2N40Rc9VZJLyy",
      "include_colab_link": true
    },
    "kernelspec": {
      "name": "python3",
      "display_name": "Python 3"
    },
    "language_info": {
      "name": "python"
    },
    "accelerator": "GPU"
  },
  "cells": [
    {
      "cell_type": "markdown",
      "metadata": {
        "id": "view-in-github",
        "colab_type": "text"
      },
      "source": [
        "<a href=\"https://colab.research.google.com/github/kimyeseong984/ABCD-A/blob/main/%EC%88%98%ED%8F%89%EC%9C%BC%EB%A1%9C_%EB%8D%98%EC%A7%84_%EA%B3%B5%EC%9D%98_%EC%9A%B4%EB%8F%99_%ED%94%84%EB%A1%9C%EA%B7%B8%EB%9E%98%EB%B0%8D.ipynb\" target=\"_parent\"><img src=\"https://colab.research.google.com/assets/colab-badge.svg\" alt=\"Open In Colab\"/></a>"
      ]
    },
    {
      "cell_type": "code",
      "source": [
        "import math\n",
        "\n",
        "# 상수 정의\n",
        "G = 9.8  # 중력 가속도 (m/s^2)\n",
        "PI = math.pi\n",
        "\n",
        "# 사용자 입력\n",
        "v0 = float(input(\"초기 속도 (m/s)를 입력하세요.: \"))\n",
        "angle_deg = float(input(\"발사각 (도)를 입력하세요.: \"))\n",
        "\n",
        "# 라디안 변환\n",
        "angle_rad = angle_deg * PI / 180.0\n",
        "\n",
        "# 1) x, y 방향 초기속도\n",
        "vx = v0 * math.cos(angle_rad)\n",
        "vy = v0 * math.sin(angle_rad)\n",
        "\n",
        "# 2) 최고점 높이\n",
        "h_max = (vy * vy) / (2 * G)\n",
        "\n",
        "# 3) 최고점 도달 시간\n",
        "t_peak = vy / G\n",
        "\n",
        "# 전체 비행 시간\n",
        "t_total = 2 * t_peak\n",
        "\n",
        "# 4) 수평 이동 최대 거리\n",
        "range_ = vx * t_total\n",
        "\n",
        "# 5) 지면에 도달할 때 속도 성분\n",
        "vx_final = vx  # 수평 속도는 일정\n",
        "vy_final = -vy  # y방향은 -초기값\n",
        "v_final = math.sqrt(vx_final ** 2 + vy_final ** 2)  # 최종 속도 크기\n",
        "\n",
        "# 결과 출력\n",
        "print(\"\\n==== 계산 결과 ====\")\n",
        "print(f\"1) 초기 속도 성분: Vx = {vx:.2f} m/s, Vy = {vy:.2f} m/s\")\n",
        "print(f\"2) 최고점 높이: {h_max:.2f} m\")\n",
        "print(f\"3) 최고점 도달 시간: {t_peak:.2f} s\")\n",
        "print(f\"4) 수평 이동 거리: {range_:.2f} m\")\n",
        "print(f\"5) 지면 도달 시 속도 성분: Vx = {vx_final:.2f} m/s, Vy = {vy_final:.2f} m/s, V = {v_final:.2f} m/s\")\n"
      ],
      "metadata": {
        "colab": {
          "base_uri": "https://localhost:8080/"
        },
        "id": "O9B-gXbcUYmU",
        "outputId": "13a1f769-c785-49d5-e771-b1e7eb3ecf62"
      },
      "execution_count": 3,
      "outputs": [
        {
          "output_type": "stream",
          "name": "stdout",
          "text": [
            "초기 속도 (m/s)를 입력하세요.: 30\n",
            "발사각 (도)를 입력하세요.: 30\n",
            "\n",
            "==== 계산 결과 ====\n",
            "1) 초기 속도 성분: Vx = 25.98 m/s, Vy = 15.00 m/s\n",
            "2) 최고점 높이: 11.48 m\n",
            "3) 최고점 도달 시간: 1.53 s\n",
            "4) 수평 이동 거리: 79.53 m\n",
            "5) 지면 도달 시 속도 성분: Vx = 25.98 m/s, Vy = -15.00 m/s, V = 30.00 m/s\n"
          ]
        }
      ]
    }
  ]
}