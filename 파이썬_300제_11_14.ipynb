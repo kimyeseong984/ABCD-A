{
  "nbformat": 4,
  "nbformat_minor": 0,
  "metadata": {
    "colab": {
      "provenance": [],
      "authorship_tag": "ABX9TyM5xghnSP1OYHBYkG1iFIpr",
      "include_colab_link": true
    },
    "kernelspec": {
      "name": "python3",
      "display_name": "Python 3"
    },
    "language_info": {
      "name": "python"
    }
  },
  "cells": [
    {
      "cell_type": "markdown",
      "metadata": {
        "id": "view-in-github",
        "colab_type": "text"
      },
      "source": [
        "<a href=\"https://colab.research.google.com/github/kimyeseong984/ABCD-A/blob/%ED%8C%8C%EC%9D%B4%EC%8D%AC-300%EC%A0%9C-11-14/%ED%8C%8C%EC%9D%B4%EC%8D%AC_300%EC%A0%9C_11_14.ipynb\" target=\"_parent\"><img src=\"https://colab.research.google.com/assets/colab-badge.svg\" alt=\"Open In Colab\"/></a>"
      ]
    },
    {
      "cell_type": "code",
      "execution_count": 1,
      "metadata": {
        "colab": {
          "base_uri": "https://localhost:8080/"
        },
        "id": "YqXk3VuMZ_8b",
        "outputId": "d578344f-2da3-4732-a5a4-97e0948980df"
      },
      "outputs": [
        {
          "output_type": "stream",
          "name": "stdout",
          "text": [
            "500000\n"
          ]
        }
      ],
      "source": [
        "삼성전자 = 50000\n",
        "총평가금액 = 삼성전자 * 10\n",
        "print(총평가금액)"
      ]
    },
    {
      "cell_type": "code",
      "source": [
        "시가총액 = 298000000000000\n",
        "현재가 = 50000\n",
        "PER = 15.79\n",
        "print(\"시가총액\", 시가총액)\n",
        "print(\"현재가\", 현재가)\n",
        "print(\"PER\", PER)"
      ],
      "metadata": {
        "colab": {
          "base_uri": "https://localhost:8080/"
        },
        "id": "4zmwuHXJb1We",
        "outputId": "61283171-1d11-481c-ef8b-2d514e8b6462"
      },
      "execution_count": 3,
      "outputs": [
        {
          "output_type": "stream",
          "name": "stdout",
          "text": [
            "시가총액 298000000000000\n",
            "현재가 50000\n",
            "PER 15.79\n"
          ]
        }
      ]
    },
    {
      "cell_type": "code",
      "source": [
        "s = \"hello!\"\n",
        "t = \"python\"\n",
        "print(s + t)"
      ],
      "metadata": {
        "colab": {
          "base_uri": "https://localhost:8080/"
        },
        "id": "WslqrMG1dfI9",
        "outputId": "02475902-521d-4d56-cc57-b9f99ee0bafc"
      },
      "execution_count": 5,
      "outputs": [
        {
          "output_type": "stream",
          "name": "stdout",
          "text": [
            "hello!python\n"
          ]
        }
      ]
    },
    {
      "cell_type": "code",
      "source": [
        "s = 2\n",
        "t = 3\n",
        "print(s+s*t)"
      ],
      "metadata": {
        "colab": {
          "base_uri": "https://localhost:8080/"
        },
        "id": "I00kQyE3dxNw",
        "outputId": "fb524e65-34c1-4f80-d361-769accd32002"
      },
      "execution_count": 10,
      "outputs": [
        {
          "output_type": "stream",
          "name": "stdout",
          "text": [
            "8\n"
          ]
        }
      ]
    }
  ]
}