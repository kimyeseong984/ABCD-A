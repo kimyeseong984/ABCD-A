{
  "nbformat": 4,
  "nbformat_minor": 0,
  "metadata": {
    "colab": {
      "provenance": [],
      "authorship_tag": "ABX9TyNOJkAQbGfhpOhyoBmmq1Ai",
      "include_colab_link": true
    },
    "kernelspec": {
      "name": "python3",
      "display_name": "Python 3"
    },
    "language_info": {
      "name": "python"
    }
  },
  "cells": [
    {
      "cell_type": "markdown",
      "metadata": {
        "id": "view-in-github",
        "colab_type": "text"
      },
      "source": [
        "<a href=\"https://colab.research.google.com/github/kimyeseong984/ABCD-A/blob/20250310/%ED%94%84%EB%A6%B0%ED%84%B0_%ED%95%A8%EC%88%98_%EC%82%AC%EC%9A%A9.ipynb\" target=\"_parent\"><img src=\"https://colab.research.google.com/assets/colab-badge.svg\" alt=\"Open In Colab\"/></a>"
      ]
    },
    {
      "cell_type": "code",
      "execution_count": 2,
      "metadata": {
        "colab": {
          "base_uri": "https://localhost:8080/"
        },
        "id": "LhH2YQQOvGcZ",
        "outputId": "2214556e-fa08-4d6e-b691-59ca13574044"
      },
      "outputs": [
        {
          "output_type": "stream",
          "name": "stdout",
          "text": [
            "Hello\n"
          ]
        }
      ],
      "source": [
        "print(\"Hello\")"
      ]
    },
    {
      "cell_type": "code",
      "source": [
        "print('hello', 'everyone')"
      ],
      "metadata": {
        "colab": {
          "base_uri": "https://localhost:8080/"
        },
        "id": "v5BiE2iNvseY",
        "outputId": "4b1372bb-4931-46f0-cf08-dc5c104a7fbf"
      },
      "execution_count": 3,
      "outputs": [
        {
          "output_type": "stream",
          "name": "stdout",
          "text": [
            "hello everyone\n"
          ]
        }
      ]
    },
    {
      "cell_type": "code",
      "source": [
        "print('hello', end='!!!')\n",
        "print('test')"
      ],
      "metadata": {
        "colab": {
          "base_uri": "https://localhost:8080/"
        },
        "id": "vOYcxCAzvzhd",
        "outputId": "89f3a8a8-9057-4449-cdbf-54dad80ff38e"
      },
      "execution_count": 4,
      "outputs": [
        {
          "output_type": "stream",
          "name": "stdout",
          "text": [
            "hello!!!test\n"
          ]
        }
      ]
    },
    {
      "cell_type": "code",
      "source": [
        "print('hello', end='   ')\n",
        "print('test')"
      ],
      "metadata": {
        "colab": {
          "base_uri": "https://localhost:8080/"
        },
        "id": "HQLVsTrPwGZY",
        "outputId": "7da03613-08a0-42f4-97aa-2fd2f9186284"
      },
      "execution_count": 6,
      "outputs": [
        {
          "output_type": "stream",
          "name": "stdout",
          "text": [
            "hello   test\n"
          ]
        }
      ]
    },
    {
      "cell_type": "code",
      "source": [
        "a = 123\n",
        "\n",
        "b = 'hello'\n",
        "\n",
        "print(a, b)\n",
        "\n",
        "print(a, 456, b, 'world')"
      ],
      "metadata": {
        "colab": {
          "base_uri": "https://localhost:8080/"
        },
        "id": "qPuPx16Gwtmi",
        "outputId": "4b9008b7-a8c6-48f8-d427-6ed5471dd61a"
      },
      "execution_count": 7,
      "outputs": [
        {
          "output_type": "stream",
          "name": "stdout",
          "text": [
            "123 hello\n",
            "123 456 hello world\n"
          ]
        }
      ]
    },
    {
      "cell_type": "code",
      "source": [
        "print('Hello \"Python\"')\n",
        "print(\"Hello 'Python'\")\n",
        "print('Hello','Python!')\n",
        "print('Hello' + 'Python!')"
      ],
      "metadata": {
        "colab": {
          "base_uri": "https://localhost:8080/"
        },
        "id": "xyMzTIAXze0M",
        "outputId": "1c240dae-0636-467a-f00e-c7effc85ceed"
      },
      "execution_count": 10,
      "outputs": [
        {
          "output_type": "stream",
          "name": "stdout",
          "text": [
            "Hello \"Python\"\n",
            "Hello 'Python'\n",
            "Hello Python!\n",
            "HelloPython!\n"
          ]
        }
      ]
    },
    {
      "cell_type": "code",
      "source": [],
      "metadata": {
        "id": "fJz4IBSB2Wca"
      },
      "execution_count": null,
      "outputs": []
    },
    {
      "cell_type": "code",
      "source": [
        "print(\"화면에 직접 출력\")\n",
        "print('ab\\'c')\n",
        "print(\"ab'c\")\n",
        "\n",
        "print(\"doesn't\")\n",
        "print('does')\n",
        "print('doesn\\'t')\n",
        "print(\"'string'\")\n",
        "print(\"\\\"string\\\"\")\n",
        "print('\"string\"')"
      ],
      "metadata": {
        "colab": {
          "base_uri": "https://localhost:8080/"
        },
        "id": "gwGAQp5P0mR7",
        "outputId": "4b133bcd-c2b8-4732-8972-39516c26582f"
      },
      "execution_count": 12,
      "outputs": [
        {
          "output_type": "stream",
          "name": "stdout",
          "text": [
            "화면에 직접 출력\n",
            "ab'c\n",
            "ab'c\n",
            "doesn't\n",
            "does\n",
            "doesn't\n",
            "'string'\n",
            "\"string\"\n",
            "\"string\"\n"
          ]
        }
      ]
    },
    {
      "cell_type": "code",
      "source": [
        "s1='화면에 직접 출력'\n",
        "s2='ab\\'c'\n",
        "s3='does'\n",
        "print(s1)\n",
        "print(s2)\n",
        "print(s3)\n",
        "print(s1[0])#첫 글자\n",
        "print(s2[1])#두 번째 글자\n",
        "print(s3[1:3])\n",
        "print(s3[-1])#마지막 글자\n",
        "print(s3[-2])#뒤에서 두 번째"
      ],
      "metadata": {
        "colab": {
          "base_uri": "https://localhost:8080/"
        },
        "id": "hD71NEqG2YBa",
        "outputId": "79d65da0-ae47-499d-a634-ea0f4a06689f"
      },
      "execution_count": 14,
      "outputs": [
        {
          "output_type": "stream",
          "name": "stdout",
          "text": [
            "화면에 직접 출력\n",
            "ab'c\n",
            "does\n",
            "화\n",
            "b\n",
            "oe\n",
            "s\n",
            "e\n"
          ]
        }
      ]
    },
    {
      "cell_type": "code",
      "source": [
        "a=2\n",
        "b=3.14777\n",
        "c=a+b\n",
        "print(a)\n",
        "print(b)\n",
        "print(c)\n",
        "print(round(c,2))\n",
        "print(\"%.2f\"%(c))\n",
        "print(a+b)\n",
        "print(a,b,a+b,c)\n",
        "d=1e2\n",
        "e=1e-2\n",
        "print(d)\n",
        "print(e)"
      ],
      "metadata": {
        "colab": {
          "base_uri": "https://localhost:8080/"
        },
        "id": "KgN_fRnc4FqP",
        "outputId": "598e9284-3624-4a76-db79-8469745f78ef"
      },
      "execution_count": 16,
      "outputs": [
        {
          "output_type": "stream",
          "name": "stdout",
          "text": [
            "2\n",
            "3.14777\n",
            "5.1477699999999995\n",
            "5.15\n",
            "5.15\n",
            "5.1477699999999995\n",
            "2 3.14777 5.1477699999999995 5.1477699999999995\n",
            "100.0\n",
            "0.01\n"
          ]
        }
      ]
    },
    {
      "cell_type": "code",
      "source": [
        "item1='사과'\n",
        "price1=1000\n",
        "item2='바나나'\n",
        "price2=500\n",
        "print(item1, price1)\n",
        "print(item2, price2)"
      ],
      "metadata": {
        "colab": {
          "base_uri": "https://localhost:8080/"
        },
        "id": "jmQujRsW6NjQ",
        "outputId": "65fe1d8c-ecbd-464b-bbe7-6a178d30ac2c"
      },
      "execution_count": 17,
      "outputs": [
        {
          "output_type": "stream",
          "name": "stdout",
          "text": [
            "사과 1000\n",
            "바나나 500\n"
          ]
        }
      ]
    },
    {
      "cell_type": "code",
      "source": [
        "str1='{0}은 {1}원 입니다'.format(item1, price1)\n",
        "str2='{0}은 {1}원 입니다'.format(item2, price2)\n",
        "print(str1)\n",
        "print(str2)"
      ],
      "metadata": {
        "colab": {
          "base_uri": "https://localhost:8080/"
        },
        "id": "6bN__kfY8gvX",
        "outputId": "48f9d4f8-21b6-4ac7-8cfd-5ebc7ef9101f"
      },
      "execution_count": 20,
      "outputs": [
        {
          "output_type": "stream",
          "name": "stdout",
          "text": [
            "사과은 1000원 입니다\n",
            "바나나은 500원 입니다\n"
          ]
        }
      ]
    },
    {
      "cell_type": "code",
      "source": [
        "item1='사과'\n",
        "price1=1000\n",
        "item2='바나나'\n",
        "price2=500\n",
        "print(item1, price1, sep=',',end='/')\n",
        "print(item2, price2, sep=',')"
      ],
      "metadata": {
        "colab": {
          "base_uri": "https://localhost:8080/"
        },
        "id": "cTIFKGCm7XeS",
        "outputId": "8817e662-7198-4c6d-bbfa-b64d51dc5085"
      },
      "execution_count": 19,
      "outputs": [
        {
          "output_type": "stream",
          "name": "stdout",
          "text": [
            "사과,1000/바나나,500\n"
          ]
        }
      ]
    }
  ]
}