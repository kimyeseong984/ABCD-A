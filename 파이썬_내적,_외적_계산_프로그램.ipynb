{
  "nbformat": 4,
  "nbformat_minor": 0,
  "metadata": {
    "colab": {
      "provenance": [],
      "authorship_tag": "ABX9TyP/zM3/cE/YlSSCtajsQokz",
      "include_colab_link": true
    },
    "kernelspec": {
      "name": "python3",
      "display_name": "Python 3"
    },
    "language_info": {
      "name": "python"
    }
  },
  "cells": [
    {
      "cell_type": "markdown",
      "metadata": {
        "id": "view-in-github",
        "colab_type": "text"
      },
      "source": [
        "<a href=\"https://colab.research.google.com/github/kimyeseong984/ABCD-A/blob/%ED%8C%8C%EC%9D%B4%EC%8D%AC-%EB%82%B4%EC%A0%81%2C%EC%99%B8%EC%A0%81-%EA%B3%84%EC%82%B0-%ED%94%84%EB%A1%9C%EA%B7%B8%EB%9E%A8/%ED%8C%8C%EC%9D%B4%EC%8D%AC_%EB%82%B4%EC%A0%81%2C_%EC%99%B8%EC%A0%81_%EA%B3%84%EC%82%B0_%ED%94%84%EB%A1%9C%EA%B7%B8%EB%9E%A8.ipynb\" target=\"_parent\"><img src=\"https://colab.research.google.com/assets/colab-badge.svg\" alt=\"Open In Colab\"/></a>"
      ]
    },
    {
      "cell_type": "code",
      "execution_count": null,
      "metadata": {
        "colab": {
          "base_uri": "https://localhost:8080/"
        },
        "id": "3GqFA_TsQkLb",
        "outputId": "c7cd3e2e-b495-444c-cbd0-4b3fecfe2ac9"
      },
      "outputs": [
        {
          "name": "stdout",
          "output_type": "stream",
          "text": [
            "첫 번째 벡터의 x 성분을 입력하세요: 3\n",
            "첫 번째 벡터의 y 성분을 입력하세요: 4\n"
          ]
        }
      ],
      "source": [
        "x1 = float(input(\"첫 번째 벡터의 x 성분을 입력하세요: \"))\n",
        "\n",
        "y1 = float(input(\"첫 번째 벡터의 y 성분을 입력하세요: \"))"
      ]
    },
    {
      "cell_type": "code",
      "source": [
        "x2 = float(input(\"두 번째 벡터의 x 성분을 입력하세요: \"))\n",
        "\n",
        "y2 = float(input(\"두 번째 벡터의 y 성분을 입력하세요: \"))"
      ],
      "metadata": {
        "colab": {
          "base_uri": "https://localhost:8080/"
        },
        "id": "kKEBJBQoQ51l",
        "outputId": "69f4a146-cdee-4b1c-d432-e1ca167a1abb"
      },
      "execution_count": null,
      "outputs": [
        {
          "name": "stdout",
          "output_type": "stream",
          "text": [
            "두 번째 벡터의 x 성분을 입력하세요: 5\n",
            "두 번째 벡터의 y 성분을 입력하세요: 8\n"
          ]
        }
      ]
    },
    {
      "cell_type": "code",
      "source": [
        "sum_x = x1 + x2\n",
        "\n",
        "sum_y = y1 + y2"
      ],
      "metadata": {
        "id": "T6JQvPHoQ8wz"
      },
      "execution_count": null,
      "outputs": []
    },
    {
      "cell_type": "code",
      "source": [
        "dot_product = x1 * x2 + y1 * y2"
      ],
      "metadata": {
        "id": "qzLCU6cYRyc_"
      },
      "execution_count": 8,
      "outputs": []
    },
    {
      "cell_type": "code",
      "source": [
        "cross_product = x1 * y2 - y1 * x2"
      ],
      "metadata": {
        "id": "4zWRdFPlTwoF"
      },
      "execution_count": 9,
      "outputs": []
    },
    {
      "cell_type": "code",
      "source": [
        "print(\"\\n벡터 1:\", x1, \"i +\", y1, \"j\")\n",
        "\n",
        "print(\"벡터 2:\", x2, \"i +\", y2, \"j\")\n",
        "\n",
        "print(\"\\n벡터의 합:\", sum_x, \"i +\", sum_y, \"j\")\n",
        "\n",
        "print(\"벡터의 내적:\", dot_product)\n",
        "\n",
        "print(\"벡터의 외적:\", cross_product)\n"
      ],
      "metadata": {
        "colab": {
          "base_uri": "https://localhost:8080/"
        },
        "id": "93CWjTmkTzSF",
        "outputId": "01c325d0-4251-4ba7-a3aa-1ec2eda9d114"
      },
      "execution_count": 10,
      "outputs": [
        {
          "output_type": "stream",
          "name": "stdout",
          "text": [
            "\n",
            "벡터 1: 3.0 i + 4.0 j\n",
            "벡터 2: 5.0 i + 8.0 j\n",
            "\n",
            "벡터의 합: 8.0 i + 12.0 j\n",
            "벡터의 내적: 47.0\n",
            "벡터의 외적: 4.0\n"
          ]
        }
      ]
    },
    {
      "cell_type": "code",
      "source": [
        "x1 = float(input(\"첫 번째 벡터의 x 성분을 입력하세요: \"))\n",
        "\n",
        "y1 = float(input(\"첫 번째 벡터의 y 성분을 입력하세요: \"))\n",
        "\n",
        "z1 = float(input(\"첫 번째 벡터의 z 성분을 입력하세요: \"))"
      ],
      "metadata": {
        "colab": {
          "base_uri": "https://localhost:8080/"
        },
        "id": "XHTzQ3xZT7i_",
        "outputId": "959eb4b9-4e27-4736-86bc-68372f21eab6"
      },
      "execution_count": 11,
      "outputs": [
        {
          "name": "stdout",
          "output_type": "stream",
          "text": [
            "첫 번째 벡터의 x 성분을 입력하세요: 53\n",
            "첫 번째 벡터의 y 성분을 입력하세요: 457\n",
            "첫 번째 벡터의 z 성분을 입력하세요: 89\n"
          ]
        }
      ]
    },
    {
      "cell_type": "code",
      "source": [
        "x2 = float(input(\"두 번째 벡터의 x 성분을 입력하세요: \"))\n",
        "\n",
        "y2 = float(input(\"두 번째 벡터의 y 성분을 입력하세요: \"))\n",
        "\n",
        "z2 = float(input(\"두 번째 벡터의 z 성분을 입력하세요: \"))"
      ],
      "metadata": {
        "colab": {
          "base_uri": "https://localhost:8080/"
        },
        "id": "alpq5pdXUFqN",
        "outputId": "45670056-2b36-40aa-eb62-3133f2d0632b"
      },
      "execution_count": 14,
      "outputs": [
        {
          "name": "stdout",
          "output_type": "stream",
          "text": [
            "두 번째 벡터의 x 성분을 입력하세요: 3252\n",
            "두 번째 벡터의 y 성분을 입력하세요: 235\n",
            "두 번째 벡터의 z 성분을 입력하세요: 653\n"
          ]
        }
      ]
    },
    {
      "cell_type": "code",
      "source": [
        "sum_x = x1 + x2\n",
        "\n",
        "sum_y = y1 + y2\n",
        "\n",
        "sum_z = z1 + z2"
      ],
      "metadata": {
        "id": "OjXZ-s0DUWU1"
      },
      "execution_count": 23,
      "outputs": []
    },
    {
      "cell_type": "code",
      "source": [
        "dot_product = x1 * x2 + y1 * y2 + z1 * z2"
      ],
      "metadata": {
        "id": "NJN5xnfbUekb"
      },
      "execution_count": 17,
      "outputs": []
    },
    {
      "cell_type": "code",
      "source": [
        "cross_product = x1 * y2 - y1 * x2 - z1 * z2"
      ],
      "metadata": {
        "id": "EV4uOpH_UnTQ"
      },
      "execution_count": 20,
      "outputs": []
    },
    {
      "cell_type": "code",
      "source": [
        "print(\"\\n벡터 1:\", x1, \"i +\", y1, \"j\", z1, \"k\")\n",
        "\n",
        "print(\"벡터 2:\", x2, \"i +\", y2, \"j\", z2, \"k\")\n",
        "\n",
        "print(\"\\n벡터의 합:\", sum_x, \"i +\", sum_y, \"j\", sum_z, \"k\")\n",
        "\n",
        "print(\"벡터의 내적:\", dot_product)\n",
        "\n",
        "print(\"벡터의 외적:\", cross_product)\n"
      ],
      "metadata": {
        "colab": {
          "base_uri": "https://localhost:8080/"
        },
        "id": "dtvDqkGOUvP3",
        "outputId": "1c18258d-9003-47f5-fd38-e180760bbcb5"
      },
      "execution_count": 22,
      "outputs": [
        {
          "output_type": "stream",
          "name": "stdout",
          "text": [
            "\n",
            "벡터 1: 53.0 i + 457.0 j 89.0 k\n",
            "벡터 2: 3252.0 i + 235.0 j 653.0 k\n",
            "\n",
            "벡터의 합: 3305.0 i + 692.0 j 742.0 k\n",
            "벡터의 내적: 337868.0\n",
            "벡터의 외적: -1531826.0\n"
          ]
        }
      ]
    }
  ]
}