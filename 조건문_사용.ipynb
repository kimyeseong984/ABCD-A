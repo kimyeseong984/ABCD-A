{
  "nbformat": 4,
  "nbformat_minor": 0,
  "metadata": {
    "colab": {
      "provenance": [],
      "authorship_tag": "ABX9TyM0XDU1lrIKZ09XXpF6+xyf",
      "include_colab_link": true
    },
    "kernelspec": {
      "name": "python3",
      "display_name": "Python 3"
    },
    "language_info": {
      "name": "python"
    }
  },
  "cells": [
    {
      "cell_type": "markdown",
      "metadata": {
        "id": "view-in-github",
        "colab_type": "text"
      },
      "source": [
        "<a href=\"https://colab.research.google.com/github/kimyeseong984/ABCD-A/blob/%ED%8C%8C%EC%9D%B4%EC%8D%AC-%EC%A1%B0%EA%B1%B4%EB%AC%B8/%EC%A1%B0%EA%B1%B4%EB%AC%B8_%EC%82%AC%EC%9A%A9.ipynb\" target=\"_parent\"><img src=\"https://colab.research.google.com/assets/colab-badge.svg\" alt=\"Open In Colab\"/></a>"
      ]
    },
    {
      "cell_type": "code",
      "execution_count": null,
      "metadata": {
        "colab": {
          "base_uri": "https://localhost:8080/"
        },
        "id": "kmbqndLi_8ud",
        "outputId": "669b7f83-1808-41f9-c260-89fd39f1060f"
      },
      "outputs": [
        {
          "output_type": "stream",
          "name": "stdout",
          "text": [
            "껌 구매\n"
          ]
        }
      ],
      "source": [
        "# name = \"test\"\n",
        "# if name == \"test\"\n",
        "#  print(\"이름이 맞습니다.\")\n",
        "# else:\n",
        "#  print(\"이름이 틀립니다.\")\n",
        "\n",
        "\n",
        "poket = 500\n",
        "if poket == 100:\n",
        "  print(\"복권 구매\")\n",
        "elif poket == 500:\n",
        "  print(\"껌 구매\")\n",
        "else:\n",
        "  print(\"집\")\n"
      ]
    },
    {
      "cell_type": "code",
      "source": [
        "a = \"사과\"\n",
        "b = \"바나나\"\n",
        "c = \"치즈\"\n",
        "if a == \" 사과\" or b == \"안바나나\":  # true\n",
        "  print(\"사고 이거나 바나나 입니다.\")\n",
        "if a == \"사과\" and b == \"바나나\":  # true\n",
        "  print(\"사과 이고 바나나 입니다.\")\n",
        "if not a == \"사과\":  # a가 사과인데 not 이므로 false\n",
        "  print(\"사과가 아니어야 여기 들어옵니다.\")"
      ],
      "metadata": {
        "colab": {
          "base_uri": "https://localhost:8080/"
        },
        "id": "rhsEa7xGHPNV",
        "outputId": "d22b2eb6-0149-4c27-9a97-9de537698f13"
      },
      "execution_count": null,
      "outputs": [
        {
          "output_type": "stream",
          "name": "stdout",
          "text": [
            "사과 이고 바나나 입니다.\n"
          ]
        }
      ]
    },
    {
      "cell_type": "code",
      "source": [
        "a = [1, 2, 3, 4, 5, 6, 7, 8]\n",
        "if 1 in a:\n",
        "  print(\"a 리스트에 1이 포함되어있습니다.\")\n",
        "elif 10 in a:\n",
        "  print(\"a 리스트에 10이 포함되어있습니다.\")\n"
      ],
      "metadata": {
        "colab": {
          "base_uri": "https://localhost:8080/"
        },
        "id": "m-5W-3NpIuC8",
        "outputId": "a48b1802-e8ad-4ba8-9275-6e584fc14fb3"
      },
      "execution_count": null,
      "outputs": [
        {
          "output_type": "stream",
          "name": "stdout",
          "text": [
            "a 리스트에 1이 포함되어있습니다.\n"
          ]
        }
      ]
    },
    {
      "cell_type": "code",
      "source": [
        "p_class = \"Z\"\n",
        "sel_amount = 79900\\\n",
        "\n",
        "if p_class == \"A\": # 55930.0\n",
        "   sel_amount *= 0.7\n",
        "   print(f'판매가는  {sel_amount}원 입니다.')\n",
        "elif p_class == \"B\": # 67915.0\n",
        "   sel_amount *= 0.85\n",
        "   print(f'판매가는  {sel_amount}원 입니다.')\n",
        "elif p_class == \"C\": # 73508.0\n",
        "   sel_amount *= 0.92\n",
        "   print(f'판매가는  {sel_amount}원 입니다.')\n",
        "elif p_class == \"Z\": # 84900\n",
        "   sel_amount += 5000\n",
        "   print(f'판매가는  {sel_amount}원 입니다.')"
      ],
      "metadata": {
        "colab": {
          "base_uri": "https://localhost:8080/"
        },
        "id": "Oi-BVduSDwXF",
        "outputId": "c9481fa4-1257-496d-bdd7-c110564edae3"
      },
      "execution_count": 1,
      "outputs": [
        {
          "output_type": "stream",
          "name": "stdout",
          "text": [
            "판매가는  84900원 입니다.\n"
          ]
        }
      ]
    },
    {
      "cell_type": "code",
      "source": [
        "x = 11\n",
        "\n",
        "if x < 10:\n",
        "  print(\"x는 10보다 작아!.\")\n",
        "else:\n",
        "  print(\"x는 10 보다 작지 않아!\")"
      ],
      "metadata": {
        "colab": {
          "base_uri": "https://localhost:8080/"
        },
        "id": "OJaVH435FKTi",
        "outputId": "83d29e56-8b24-49df-cf77-0b75aac017dd"
      },
      "execution_count": 2,
      "outputs": [
        {
          "output_type": "stream",
          "name": "stdout",
          "text": [
            "x는 10 보다 작지 않아!\n"
          ]
        }
      ]
    },
    {
      "cell_type": "code",
      "source": [
        "x = 2\n",
        "\n",
        "if x%2 == 0:\n",
        "  print(\"x는 짝수야! \")\n",
        "else:\n",
        "  print(\"x는 홀수야!\")"
      ],
      "metadata": {
        "colab": {
          "base_uri": "https://localhost:8080/"
        },
        "id": "TcSTC_neFzBM",
        "outputId": "2f090e44-b88f-4109-a375-80c73f6451b6"
      },
      "execution_count": 3,
      "outputs": [
        {
          "output_type": "stream",
          "name": "stdout",
          "text": [
            "x는 짝수야! \n"
          ]
        }
      ]
    },
    {
      "cell_type": "code",
      "source": [
        "x = 3\n",
        "\n",
        "if x < 10:\n",
        "  print('x는 10보다 작아!')\n",
        "  if x%2 == 0:\n",
        "    print('x는 짝수야!')\n",
        "  else:\n",
        "    print('x는 홀수야!')\n",
        "else:\n",
        "  print('x는 10보다 커!')\n",
        "  if x%2 == 0:\n",
        "    print('x는 짝수야!')\n",
        "  else:\n",
        "    pritnt('x는 홀수야!')"
      ],
      "metadata": {
        "colab": {
          "base_uri": "https://localhost:8080/"
        },
        "id": "MmgiAg5CGQbl",
        "outputId": "64246529-117e-40fa-89ed-0a412a860281"
      },
      "execution_count": 4,
      "outputs": [
        {
          "output_type": "stream",
          "name": "stdout",
          "text": [
            "x는 10보다 작아!\n",
            "x는 홀수야!\n"
          ]
        }
      ]
    },
    {
      "cell_type": "code",
      "source": [
        "if x<10 and x%2==0:\n",
        "    print('x는 10보다 작으면서 짝수야!')\n",
        "if x<10 and not x%2==0:\n",
        "    print('x는 10보다 작으면서 홀수야!')\n",
        "if not x<10 and x%2==0:\n",
        "    print('x는 10보다 크면서 짝수야!')\n",
        "if not x<10 and x%2==0:\n",
        "    print('x는 10보가 크면서 홀수야!')"
      ],
      "metadata": {
        "colab": {
          "base_uri": "https://localhost:8080/"
        },
        "id": "FPaK9SGlHXOA",
        "outputId": "7b3e7261-66f6-4d03-87a9-1be77a722551"
      },
      "execution_count": 5,
      "outputs": [
        {
          "output_type": "stream",
          "name": "stdout",
          "text": [
            "x는 10보다 작으면서 홀수야!\n"
          ]
        }
      ]
    },
    {
      "cell_type": "code",
      "source": [
        "treeHit = 0\n",
        "\n",
        "while treeHit < 10:\n",
        "  treeHit =treeHit + 1\n",
        "  print(\"나무를 %d번 찍었습니다.\"% treeHit)\n",
        "  if treeHit == 10:\n",
        "    print(\"나무가 넘어갑니다.\")"
      ],
      "metadata": {
        "colab": {
          "base_uri": "https://localhost:8080/"
        },
        "id": "-2g9tA37JNHX",
        "outputId": "64252175-73a3-4f63-e6f5-4b491a146686"
      },
      "execution_count": 7,
      "outputs": [
        {
          "output_type": "stream",
          "name": "stdout",
          "text": [
            "나무를 1번 찍었습니다.\n",
            "나무를 2번 찍었습니다.\n",
            "나무를 3번 찍었습니다.\n",
            "나무를 4번 찍었습니다.\n",
            "나무를 5번 찍었습니다.\n",
            "나무를 6번 찍었습니다.\n",
            "나무를 7번 찍었습니다.\n",
            "나무를 8번 찍었습니다.\n",
            "나무를 9번 찍었습니다.\n",
            "나무를 10번 찍었습니다.\n",
            "나무가 넘어갑니다.\n"
          ]
        }
      ]
    },
    {
      "cell_type": "code",
      "source": [
        "coffee = 10\n",
        "money = 300\n",
        "while money:\n",
        "  print(\"돈을 받았으니 커피를 줍니다.\")\n",
        "  coffee = coffee -1\n",
        "  print(\"남은 커피의 양은 %d개입니다.\"% coffee)\n",
        "  if coffee == 0:\n",
        "    print(\"커피가 다 떨어졌습니다. 판매를 중지합니다.\")\n",
        "    break"
      ],
      "metadata": {
        "colab": {
          "base_uri": "https://localhost:8080/"
        },
        "id": "qtwc9lvYKDEl",
        "outputId": "5ce1ca28-528e-43ff-c59b-1e7eada989cd"
      },
      "execution_count": 12,
      "outputs": [
        {
          "output_type": "stream",
          "name": "stdout",
          "text": [
            "돈을 받았으니 커피를 줍니다.\n",
            "남은 커피의 양은 9개입니다.\n",
            "돈을 받았으니 커피를 줍니다.\n",
            "남은 커피의 양은 8개입니다.\n",
            "돈을 받았으니 커피를 줍니다.\n",
            "남은 커피의 양은 7개입니다.\n",
            "돈을 받았으니 커피를 줍니다.\n",
            "남은 커피의 양은 6개입니다.\n",
            "돈을 받았으니 커피를 줍니다.\n",
            "남은 커피의 양은 5개입니다.\n",
            "돈을 받았으니 커피를 줍니다.\n",
            "남은 커피의 양은 4개입니다.\n",
            "돈을 받았으니 커피를 줍니다.\n",
            "남은 커피의 양은 3개입니다.\n",
            "돈을 받았으니 커피를 줍니다.\n",
            "남은 커피의 양은 2개입니다.\n",
            "돈을 받았으니 커피를 줍니다.\n",
            "남은 커피의 양은 1개입니다.\n",
            "돈을 받았으니 커피를 줍니다.\n",
            "남은 커피의 양은 0개입니다.\n",
            "커피가 다 떨어졌습니다. 판매를 중지합니다.\n",
            "Ctrl를 눌러야 while문을 빠져나갈 수 있습니다\n"
          ]
        }
      ]
    },
    {
      "cell_type": "code",
      "source": [
        "print(\"Ctrl를 눌러야 while문을 빠져나갈 수 있습니다.\")"
      ],
      "metadata": {
        "colab": {
          "base_uri": "https://localhost:8080/"
        },
        "id": "vKMk3TkUK50g",
        "outputId": "02d74c4e-3e02-4701-843a-223ef2b54263"
      },
      "execution_count": 14,
      "outputs": [
        {
          "output_type": "stream",
          "name": "stdout",
          "text": [
            "Ctrl를 눌러야 while문을 빠져나갈 수 있습니다.\n"
          ]
        }
      ]
    },
    {
      "cell_type": "code",
      "source": [
        "i = 0\n",
        "result1 = 0\n",
        "while i < 100:\n",
        "    i = i + 1\n",
        "    if i % 2 == 0:\n",
        "      result1 = result1 + i\n",
        "print('1번 방법 : {0}'.format(result1))"
      ],
      "metadata": {
        "colab": {
          "base_uri": "https://localhost:8080/"
        },
        "id": "7Lkj2nxKMKG8",
        "outputId": "8337eb94-daa5-409d-b82a-0f536872d367"
      },
      "execution_count": 16,
      "outputs": [
        {
          "output_type": "stream",
          "name": "stdout",
          "text": [
            "1번 방법 : 2550\n"
          ]
        }
      ]
    },
    {
      "cell_type": "code",
      "source": [
        "j = 0\n",
        "result2 = 0\n",
        "while True:\n",
        "  if j > 100:\n",
        "      break\n",
        "\n",
        "  j = j + 1\n",
        "  if j % 2 == 0:\n",
        "      result2 = result2 + j\n",
        "\n",
        "print('2번 방법 (break) : {0}'.format(result2))"
      ],
      "metadata": {
        "colab": {
          "base_uri": "https://localhost:8080/"
        },
        "id": "FUvOTH0WMqRb",
        "outputId": "7aa1cc30-cfbf-45f0-88b0-b7d8da0621d3"
      },
      "execution_count": 17,
      "outputs": [
        {
          "output_type": "stream",
          "name": "stdout",
          "text": [
            "2번 방법 (break) : 2550\n"
          ]
        }
      ]
    },
    {
      "cell_type": "code",
      "source": [
        "k = 0\n",
        "result3 = 0\n",
        "while k < 100:\n",
        "  k = k + 1\n",
        "  if k % 2 !=0:\n",
        "      continue\n",
        "\n",
        "  result3 = result3 + k\n",
        "\n",
        "print('3번 방법 (continue) : {0}'.format(result3))"
      ],
      "metadata": {
        "colab": {
          "base_uri": "https://localhost:8080/"
        },
        "id": "Ql0Beet8NSu1",
        "outputId": "10fb5565-3bdc-49d7-a0a8-a4db62fd49aa"
      },
      "execution_count": 24,
      "outputs": [
        {
          "output_type": "stream",
          "name": "stdout",
          "text": [
            "3번 방법 (continue) : 2550\n"
          ]
        }
      ]
    }
  ]
}