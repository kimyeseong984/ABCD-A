{
  "nbformat": 4,
  "nbformat_minor": 0,
  "metadata": {
    "colab": {
      "provenance": [],
      "authorship_tag": "ABX9TyMn50ZDb5jseM3qiujCX2I9",
      "include_colab_link": true
    },
    "kernelspec": {
      "name": "python3",
      "display_name": "Python 3"
    },
    "language_info": {
      "name": "python"
    }
  },
  "cells": [
    {
      "cell_type": "markdown",
      "metadata": {
        "id": "view-in-github",
        "colab_type": "text"
      },
      "source": [
        "<a href=\"https://colab.research.google.com/github/kimyeseong984/ABCD-A/blob/%ED%8C%8C%EC%9D%B4%EC%8D%AC-%EC%A1%B0%EA%B1%B4%EB%AC%B8/%EC%A1%B0%EA%B1%B4%EB%AC%B8_%EC%82%AC%EC%9A%A9.ipynb\" target=\"_parent\"><img src=\"https://colab.research.google.com/assets/colab-badge.svg\" alt=\"Open In Colab\"/></a>"
      ]
    },
    {
      "cell_type": "code",
      "execution_count": null,
      "metadata": {
        "colab": {
          "base_uri": "https://localhost:8080/"
        },
        "id": "kmbqndLi_8ud",
        "outputId": "669b7f83-1808-41f9-c260-89fd39f1060f"
      },
      "outputs": [
        {
          "output_type": "stream",
          "name": "stdout",
          "text": [
            "껌 구매\n"
          ]
        }
      ],
      "source": [
        "# name = \"test\"\n",
        "# if name == \"test\"\n",
        "#  print(\"이름이 맞습니다.\")\n",
        "# else:\n",
        "#  print(\"이름이 틀립니다.\")\n",
        "\n",
        "\n",
        "poket = 500\n",
        "if poket == 100:\n",
        "  print(\"복권 구매\")\n",
        "elif poket == 500:\n",
        "  print(\"껌 구매\")\n",
        "else:\n",
        "  print(\"집\")\n"
      ]
    },
    {
      "cell_type": "code",
      "source": [
        "a = \"사과\"\n",
        "b = \"바나나\"\n",
        "c = \"치즈\"\n",
        "if a == \" 사과\" or b == \"안바나나\":  # true\n",
        "  print(\"사고 이거나 바나나 입니다.\")\n",
        "if a == \"사과\" and b == \"바나나\":  # true\n",
        "  print(\"사과 이고 바나나 입니다.\")\n",
        "if not a == \"사과\":  # a가 사과인데 not 이므로 false\n",
        "  print(\"사과가 아니어야 여기 들어옵니다.\")"
      ],
      "metadata": {
        "colab": {
          "base_uri": "https://localhost:8080/"
        },
        "id": "rhsEa7xGHPNV",
        "outputId": "d22b2eb6-0149-4c27-9a97-9de537698f13"
      },
      "execution_count": null,
      "outputs": [
        {
          "output_type": "stream",
          "name": "stdout",
          "text": [
            "사과 이고 바나나 입니다.\n"
          ]
        }
      ]
    },
    {
      "cell_type": "code",
      "source": [
        "a = [1, 2, 3, 4, 5, 6, 7, 8]\n",
        "if 1 in a:\n",
        "  print(\"a 리스트에 1이 포함되어있습니다.\")\n",
        "elif 10 in a:\n",
        "  print(\"a 리스트에 10이 포함되어있습니다.\")\n"
      ],
      "metadata": {
        "colab": {
          "base_uri": "https://localhost:8080/"
        },
        "id": "m-5W-3NpIuC8",
        "outputId": "a48b1802-e8ad-4ba8-9275-6e584fc14fb3"
      },
      "execution_count": null,
      "outputs": [
        {
          "output_type": "stream",
          "name": "stdout",
          "text": [
            "a 리스트에 1이 포함되어있습니다.\n"
          ]
        }
      ]
    }
  ]
}