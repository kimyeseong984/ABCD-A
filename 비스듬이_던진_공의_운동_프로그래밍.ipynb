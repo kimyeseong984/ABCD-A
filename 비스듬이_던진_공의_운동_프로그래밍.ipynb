{
  "nbformat": 4,
  "nbformat_minor": 0,
  "metadata": {
    "colab": {
      "provenance": [],
      "authorship_tag": "ABX9TyPMiJqX3RYyJiDm/rB035fF",
      "include_colab_link": true
    },
    "kernelspec": {
      "name": "python3",
      "display_name": "Python 3"
    },
    "language_info": {
      "name": "python"
    }
  },
  "cells": [
    {
      "cell_type": "markdown",
      "metadata": {
        "id": "view-in-github",
        "colab_type": "text"
      },
      "source": [
        "<a href=\"https://colab.research.google.com/github/kimyeseong984/ABCD-A/blob/%EB%B9%84%EC%8A%A4%EB%93%AC%EC%9D%B4-%EB%8D%98%EC%A7%84-%EA%B3%B5%EC%9D%98-%EC%9A%B4%EB%8F%99-%ED%94%84%EB%A1%9C%EA%B7%B8%EB%9E%98%EB%B0%8D/%EB%B9%84%EC%8A%A4%EB%93%AC%EC%9D%B4_%EB%8D%98%EC%A7%84_%EA%B3%B5%EC%9D%98_%EC%9A%B4%EB%8F%99_%ED%94%84%EB%A1%9C%EA%B7%B8%EB%9E%98%EB%B0%8D.ipynb\" target=\"_parent\"><img src=\"https://colab.research.google.com/assets/colab-badge.svg\" alt=\"Open In Colab\"/></a>"
      ]
    },
    {
      "cell_type": "code",
      "execution_count": 1,
      "metadata": {
        "colab": {
          "base_uri": "https://localhost:8080/"
        },
        "id": "hw0xRysKYpjG",
        "outputId": "79e6314a-6a53-4845-a670-b2487bb46acb"
      },
      "outputs": [
        {
          "output_type": "stream",
          "name": "stdout",
          "text": [
            "초기 속도 (m/s): 100\n",
            "발사 각도 (deg): 37\n",
            "절벽 높이 (m): 140\n",
            "중력 가속도 (m/s^2): 9.8\n",
            "\n",
            "(a) 충돌까지 걸린 시간: 14.28 초\n",
            "(b) 수평 거리 X: 1140.64 m\n",
            "(c) 충돌 시 속도 성분 -> vx: 79.86 m/s, vy: -79.79 m/s\n",
            "(d) 속도 크기: 112.89 m/s\n",
            "(e) 수평면과 이루는 각: 44.97 도 (아래쪽)\n"
          ]
        }
      ],
      "source": [
        "import math\n",
        "\n",
        "# 입력 받기\n",
        "v0 = float(input(\"초기 속도 (m/s): \"))\n",
        "angle_deg = float(input(\"발사 각도 (deg): \"))\n",
        "h = float(input(\"절벽 높이 (m): \"))\n",
        "g = float(input(\"중력 가속도 (m/s^2): \"))\n",
        "\n",
        "# 각도 라디안 변환\n",
        "angle_rad = math.radians(angle_deg)\n",
        "\n",
        "# 수평/수직 초기 속도\n",
        "v0x = v0 * math.cos(angle_rad)\n",
        "v0y = v0 * math.sin(angle_rad)\n",
        "\n",
        "# 시간 t 계산 (이차방정식)\n",
        "a = 0.5 * g\n",
        "b = -v0y\n",
        "c = -h\n",
        "\n",
        "discriminant = b**2 - 4*a*c\n",
        "if discriminant < 0:\n",
        "    print(\"에러: 시간 계산 중 음의 판별식이 발생했습니다.\")\n",
        "    exit()\n",
        "\n",
        "t = (-b + math.sqrt(discriminant)) / (2 * a)  # 양의 해만 사용\n",
        "\n",
        "# 수평 거리 X\n",
        "X = v0x * t\n",
        "\n",
        "# 충돌 시 속도 성분\n",
        "vx = v0x\n",
        "vy = v0y - g * t\n",
        "\n",
        "# 속도 크기\n",
        "v = math.sqrt(vx**2 + vy**2)\n",
        "\n",
        "# 수평면과 이루는 각도 (도)\n",
        "phi = math.degrees(math.atan(abs(vy) / vx))\n",
        "\n",
        "# 결과 출력\n",
        "print(f\"\\n(a) 충돌까지 걸린 시간: {t:.2f} 초\")\n",
        "print(f\"(b) 수평 거리 X: {X:.2f} m\")\n",
        "print(f\"(c) 충돌 시 속도 성분 -> vx: {vx:.2f} m/s, vy: {vy:.2f} m/s\")\n",
        "print(f\"(d) 속도 크기: {v:.2f} m/s\")\n",
        "print(f\"(e) 수평면과 이루는 각: {phi:.2f} 도 (아래쪽)\")\n"
      ]
    }
  ]
}