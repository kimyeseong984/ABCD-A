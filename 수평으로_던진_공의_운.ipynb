{
  "nbformat": 4,
  "nbformat_minor": 0,
  "metadata": {
    "colab": {
      "provenance": [],
      "authorship_tag": "ABX9TyMw2uAZXYYyAFMK+0iMyebS",
      "include_colab_link": true
    },
    "kernelspec": {
      "name": "python3",
      "display_name": "Python 3"
    },
    "language_info": {
      "name": "python"
    }
  },
  "cells": [
    {
      "cell_type": "markdown",
      "metadata": {
        "id": "view-in-github",
        "colab_type": "text"
      },
      "source": [
        "<a href=\"https://colab.research.google.com/github/kimyeseong984/ABCD-A/blob/3%EC%9E%A5-%EB%AC%BC%EB%A6%AC-%EB%AC%B8%EC%A0%9C-%ED%8C%8C%EC%9D%B4%EC%8D%AC%EC%9C%BC%EB%A1%9C-%EB%82%98%ED%83%80%EB%82%B4%EA%B8%B0/%EC%88%98%ED%8F%89%EC%9C%BC%EB%A1%9C_%EB%8D%98%EC%A7%84_%EA%B3%B5%EC%9D%98_%EC%9A%B4.ipynb\" target=\"_parent\"><img src=\"https://colab.research.google.com/assets/colab-badge.svg\" alt=\"Open In Colab\"/></a>"
      ]
    },
    {
      "cell_type": "code",
      "execution_count": 54,
      "metadata": {
        "colab": {
          "base_uri": "https://localhost:8080/"
        },
        "id": "FhU8JOKqp1-Y",
        "outputId": "2891c7c6-16e4-46ac-85a6-b56b868b4e8f"
      },
      "outputs": [
        {
          "name": "stdout",
          "output_type": "stream",
          "text": [
            "공이 떨어지기까지 걸린 시간 (초)을 입력하세요: 2\n",
            "수평 거리 (m)를 입력하세요: 20\n"
          ]
        }
      ],
      "source": [
        "import math\n",
        "\n",
        "# 사용자 입력\n",
        "\n",
        "t = float(input(\"공이 떨어지기까지 걸린 시간 (초)을 입력하세요: \"))\n",
        "\n",
        "x = float(input(\"수평 거리 (m)를 입력하세요: \"))\n"
      ]
    },
    {
      "cell_type": "code",
      "source": [
        "# 중력 가속도\n",
        "\n",
        "g = -9.81  # m/s^2"
      ],
      "metadata": {
        "id": "ha0iSFh_rVk_"
      },
      "execution_count": 55,
      "outputs": []
    },
    {
      "cell_type": "code",
      "source": [
        "# a) 공의 처음속도 (수평속도)\n",
        "\n",
        "v0 = x / t"
      ],
      "metadata": {
        "id": "AgDDeZ13rZBX"
      },
      "execution_count": 56,
      "outputs": []
    },
    {
      "cell_type": "code",
      "source": [
        "# b) 옥상의 높이 (자유낙하 공식 사용)\n",
        "\n",
        "y = 1/2 * -g * t**2"
      ],
      "metadata": {
        "id": "N3davTFardBX"
      },
      "execution_count": 57,
      "outputs": []
    },
    {
      "cell_type": "code",
      "source": [
        "\n",
        "# c) 공이 지면에 닿을 때 속도\n",
        "\n",
        "vx = v0\n",
        "\n",
        "vy = -g * t\n",
        "\n"
      ],
      "metadata": {
        "id": "kPZBpEA6rqp-"
      },
      "execution_count": 58,
      "outputs": []
    },
    {
      "cell_type": "code",
      "source": [
        "# 최종 속도 크기\n",
        "\n",
        "v = math.sqrt(vx**2 + vy**2)"
      ],
      "metadata": {
        "id": "5e-uMNlnuABw"
      },
      "execution_count": 59,
      "outputs": []
    },
    {
      "cell_type": "code",
      "source": [
        "# 최종 속도 방향 (아래로 향한 각도, 단위: 도)\n",
        "\n",
        "theta_rad = math.atan2(vy , vx)\n",
        "\n",
        "theta_deg = math.degrees(theta_rad)"
      ],
      "metadata": {
        "id": "6vc5OqununU3"
      },
      "execution_count": 60,
      "outputs": []
    },
    {
      "cell_type": "code",
      "source": [
        "print(f\"\\n[결과]\")\n",
        "\n",
        "print(f\"a) 공의 처음속도 크기: {v0:.2f} m/s\")\n",
        "\n",
        "print(f\"b) 건물 높이: {y:.2f} m\")\n",
        "\n",
        "print(f\"c) 충돌 순간 속도 크기: {v:.2f} m/s\")\n",
        "\n",
        "print(f\"   충돌 순간 속도 방향 (수평선과 이루는 각도): {theta_deg:.2f}도\")"
      ],
      "metadata": {
        "colab": {
          "base_uri": "https://localhost:8080/"
        },
        "id": "aJV_Rf_WvlkT",
        "outputId": "20506b04-5303-4c77-fa9e-5c72e3b6cfb9"
      },
      "execution_count": 61,
      "outputs": [
        {
          "output_type": "stream",
          "name": "stdout",
          "text": [
            "\n",
            "[결과]\n",
            "a) 공의 처음속도 크기: 10.00 m/s\n",
            "b) 건물 높이: 19.62 m\n",
            "c) 충돌 순간 속도 크기: 22.02 m/s\n",
            "   충돌 순간 속도 방향 (수평선과 이루는 각도): 62.99도\n"
          ]
        }
      ]
    }
  ]
}