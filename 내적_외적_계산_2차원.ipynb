{
  "nbformat": 4,
  "nbformat_minor": 0,
  "metadata": {
    "colab": {
      "provenance": [],
      "authorship_tag": "ABX9TyMyatzFD0oRx1SN70SU4k7p",
      "include_colab_link": true
    },
    "kernelspec": {
      "name": "python3",
      "display_name": "Python 3"
    },
    "language_info": {
      "name": "python"
    }
  },
  "cells": [
    {
      "cell_type": "markdown",
      "metadata": {
        "id": "view-in-github",
        "colab_type": "text"
      },
      "source": [
        "<a href=\"https://colab.research.google.com/github/kimyeseong984/ABCD-A/blob/%EB%82%B4%EC%A0%81-%EC%99%B8%EC%A0%81-%EA%B3%84%EC%82%B0-%ED%94%84%EB%A1%9C%EA%B7%B8%EB%9E%A8-2%EC%B0%A8%EC%9B%90/%EB%82%B4%EC%A0%81_%EC%99%B8%EC%A0%81_%EA%B3%84%EC%82%B0_2%EC%B0%A8%EC%9B%90.ipynb\" target=\"_parent\"><img src=\"https://colab.research.google.com/assets/colab-badge.svg\" alt=\"Open In Colab\"/></a>"
      ]
    },
    {
      "cell_type": "code",
      "execution_count": null,
      "metadata": {
        "id": "dAe6WVgHzMj1"
      },
      "outputs": [],
      "source": [
        "#include <stdio.h>\n",
        "#include <math.h>\n",
        "\n",
        "void main(void)\n",
        "{\n",
        "   // 변수\n",
        "   double x1 = 0.0;\n",
        "   double x2 = 0.0;\n",
        "   double y1 = 0.0;\n",
        "   double y2 = 0.0;\n",
        "   double dot_product = 0.0;\n",
        "   double cross_product = 0.0;\n",
        "   double sum_x = 0.0;\n",
        "   double sum_y = 0.0;\n",
        "   double angle_radian = 0.0;\n",
        "   double angle_degree = 0.0;\n",
        "   double pi = 3.14159;\n",
        "\n",
        "   // 첫 번째 벡터 입력 받기\n",
        "   printf(\"x1를 입력해 주세요 : \");\n",
        "   scanf_s(\"%lf\", &x1);\n",
        "   printf(\"y1를 입력해 주세요 : \");\n",
        "   scanf_s(\"%lf\", &y1);\n",
        "\n",
        "   // 두 번째 벡터 입력 받기\n",
        "   printf(\"x2를 입력해 주세요 : \");\n",
        "   scanf_s(\"%lf\", &x2);\n",
        "   printf(\"y2를 입력해 주세요 : \");\n",
        "   scanf_s(\"%lf\", &y2);\n",
        "\n",
        "   // 벡터의 합 계산\n",
        "   sum_x = x1 + x2;\n",
        "\n",
        "   sum_y = y1 + y2;\n",
        "\n",
        "   // 각도값 계산\n",
        "   angle_radian = atan2(sum_y, sum_x);\n",
        "\n",
        "   // 각도값을 radian으로 계산\n",
        "   angle_degree = angle_radian * 180.0 / pi;\n",
        "\n",
        "   // 벡터의 내적 계산\n",
        "   dot_product = sum_x * sum_y * cos(angle_degree);\n",
        "\n",
        "   // 벡터의 외적 계산\n",
        "   cross_product = sum_x * sum_y * sin(angle_degree);\n",
        "\n",
        "   // 결과 출력\n",
        "   printf(\"벡터 1: %6.2lf, %6.2lf\\n\", x1, y1);\n",
        "\n",
        "   printf(\"벡터 2: %6.2lf, %6.2lf\\n\", x2, y2);\n",
        "\n",
        "   printf(\"벡터의 합: %6.2lf, %6.2lf\\n\", sum_x, sum_y);\n",
        "\n",
        "   printf(\"벡터의 내적: %6.2lf\\n\", dot_product);\n",
        "\n",
        "   printf(\"벡터의 외적: %6.2lf\\n\", cross_product);\n",
        "}"
      ]
    }
  ]
}