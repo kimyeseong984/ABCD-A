{
  "nbformat": 4,
  "nbformat_minor": 0,
  "metadata": {
    "colab": {
      "provenance": [],
      "authorship_tag": "ABX9TyNMWL3TVrBGgEZQc7AG7DGp",
      "include_colab_link": true
    },
    "kernelspec": {
      "name": "python3",
      "display_name": "Python 3"
    },
    "language_info": {
      "name": "python"
    }
  },
  "cells": [
    {
      "cell_type": "markdown",
      "metadata": {
        "id": "view-in-github",
        "colab_type": "text"
      },
      "source": [
        "<a href=\"https://colab.research.google.com/github/kimyeseong984/ABCD-A/blob/c%EC%96%B8%EC%96%B4-%EB%8F%99%EC%95%84%EB%A6%AC/c%EC%96%B8%EC%96%B4_%EB%8F%99%EC%95%84%EB%A6%AC.ipynb\" target=\"_parent\"><img src=\"https://colab.research.google.com/assets/colab-badge.svg\" alt=\"Open In Colab\"/></a>"
      ]
    },
    {
      "cell_type": "code",
      "execution_count": null,
      "metadata": {
        "id": "r1ofmsdJZlsF"
      },
      "outputs": [],
      "source": [
        "int main(void)\n",
        "{\n",
        "    int num = 10;\n",
        "    int sz1 = sizeof(num);\n",
        "    int sz2 = sizeof(int);\n",
        "\n",
        "}"
      ]
    },
    {
      "cell_type": "code",
      "source": [
        "#include <stdio.h>\n",
        "int main(void)\n",
        "{\n",
        "\tchar ch = 9;\n",
        "\tint inum = 1052;\n",
        "\tdouble dnum = 3.1415;\n",
        "\tprintf(\"변수 ch의 크기: %d\\n\", sizeof(ch));\n",
        "\tprintf(\"변수 inum의 크기: %d\\n\", sizeof(inum));\n",
        "\tprintf(\"변수 dnum의 크기: %d\\n\", sizeof(dnum));\n",
        "\n",
        "\tprintf(\"char의 크기: %d\\n\", sizeof(char));\n",
        "\tprintf(\"int의 크기: %d\\n\", sizeof(int));\n",
        "\tprintf(\"long의 크기: %d\\n\", sizeof(long));\n",
        "\tprintf(\"long long의 크기: %d\\n\", sizeof(long long));\n",
        "\tprintf(\"float의 크기: %d\\n\", sizeof(float));\n",
        "\tprintf(\"double의 크기: %d\\n\", sizeof(double));\n",
        "\treturn 0;\n",
        "}"
      ],
      "metadata": {
        "id": "i6i8auMvZqq-"
      },
      "execution_count": null,
      "outputs": []
    },
    {
      "cell_type": "code",
      "source": [
        "#include <stdio.h>\n",
        "int main(void)\n",
        "{\n",
        "\tchar num1 = 1, num2 = 2, result1 = 0;\n",
        "\tshort num3 = 300, num4 = 400, result2 = 0;\n",
        "\n",
        "\tprintf(\"size of num1 & num2: %d, %d\\n\", sizeof(num1), sizeof(num2));\n",
        "\tprintf(\"size of num3 & num4: %d, %d\\n\", sizeof(num3), sizeof(num4));\n",
        "\tprintf(\"size of char add: %d\\n\", sizeof(num1+num2));\n",
        "\tprintf(\"size of short add: %d\\n\", sizeof(num3 + num4));\n",
        "\n",
        "\tresult1 = num1 + num2;\n",
        "\tresult1 = num3 + num4;\n",
        "\tprintf(\"size of result1 & result2: %d, %d\\n\", sizeof(result1), sizeof(result2));\n",
        "\treturn 0;\n",
        "}"
      ],
      "metadata": {
        "id": "IlZL6OGZZsId"
      },
      "execution_count": null,
      "outputs": []
    },
    {
      "cell_type": "code",
      "source": [
        "#include <stdio.h>\n",
        "int main(void)\n",
        "{\n",
        "\tdouble rad;\n",
        "\tdouble area;\n",
        "\tprintf(\"원의 반지름 입력: \");\n",
        "\tscanf_s(\"%lf\", &rad);\n",
        "\tarea = rad * rad * 3.1415;\n",
        "\tprintf(\"원의 넓이: %f\\n\", area);\n",
        "\treturn 0;\n",
        "}"
      ],
      "metadata": {
        "id": "pFssIjH5Zzxu"
      },
      "execution_count": null,
      "outputs": []
    }
  ]
}